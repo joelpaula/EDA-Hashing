{
 "cells": [
  {
   "cell_type": "markdown",
   "metadata": {},
   "source": [
    "# Hash Tables\n",
    "\n",
    ">**Unidade curricular | Course Unit** Estrutura de Dados e Algoritmos | Data Structures and Algorithms\n",
    ">\n",
    ">**Professor** Luis Ramada Pereira\n",
    ">\n",
    ">**Curso|Course** LCD-PL -- **Ano letivo|Year** 2019/2020\n",
    ">\n",
    ">**Autores/Authors**\n",
    ">\n",
    ">     | Catarina Castanheira | nº 92478 |\n",
    ">     | João Martins         | nº 93259 |\n",
    ">     | Joel Paula           | nº 93392 |\n",
    ">\n",
    ">\n",
    ">27-05-2020"
   ]
  },
  {
   "cell_type": "markdown",
   "metadata": {},
   "source": [
    "## Implementing a User Dictionary, using a Hash Table. \n",
    "\n",
    "Class interface definition:\n",
    "\n",
    "| Method | Description |\n",
    "|--------|-------------|\n",
    "| get(key) | Returns the value associated to the given key. |\n",
    "| put(key) = value | Associate value `value` to the given key. If key already exists, replace value with the given value. |\n",
    "| delete(key) | Removes the value with the given key. Should raise an error if key doesn't exist. |\n",
    "| collisions() | Returns the numbers of collisions that happened in the table. |\n",
    "\n",
    "The challenge is to use a hash table with size `N`. Size is given when instanciating the UserDictionary. Hash values should be computed using Python's `Hash()`function and then compressed using N modulus division. Collisions should be handled using separate chaining."
   ]
  },
  {
   "cell_type": "markdown",
   "metadata": {},
   "source": [
    "## Implementation\n",
    "\n",
    "We are storing the elements in a Python list, private to our class instance. The list will be sized according to the given initial value `N`, given when instancing the dictionary class.\n",
    "The list is initialized with `None` in each position.\n",
    "\n",
    "When adding a new item to the dictionary, we compute the key's hash and compress it. Since we are compressing it by getting the modulus of the list's size - the remainder of the division of the hash by `N´ - it basically gives us a number between 0 and `N-1´ (the size of the list we are using to store the elements). That number is the index to a position in our list.\n",
    "\n",
    "Basically, we should store the key and its value on that position. We are using a `(key, value)` Tuple for that, but we could have a specific entry class, for example. \n",
    "\n",
    "You can see already that we will have a lot of collisions. For example, if the initial size is 10, a lot of different keys will be mapped to one of those 10 numbers. How do we handle collisions?\n"
   ]
  },
  {
   "cell_type": "code",
   "execution_count": 44,
   "metadata": {},
   "outputs": [
    {
     "output_type": "stream",
     "name": "stdout",
     "text": "key='abc'; compressed-hash=2\nkey='cba'; compressed-hash=1\nkey='cba'; compressed-hash=1\nkey='cbo'; compressed-hash=9\nkey='cbd'; compressed-hash=2\nkey='abc'; compressed-hash=2\n[None, ('cba', 'Célia'), [('abc', 'Luís'), ('cbd', 'Sérgio')], None, None, None, None, None, None, ('cbo', 'Joel')]\nCollisions: 2\n"
    }
   ],
   "source": [
    "class UserDict:\n",
    "    def __init__(self, N):\n",
    "        self.__disp = [None] * N\n",
    "        self.__N = N\n",
    "        self.__collisions = 0\n",
    "    \n",
    "    @property\n",
    "    def collisions(self):\n",
    "        return self.__collisions\n",
    "\n",
    "    def __getitem__(self, key):\n",
    "        pass\n",
    "\n",
    "    def __setitem__(self, key, value):\n",
    "        h = hash(key)\n",
    "        h = self.__compress(h)\n",
    "        print(f\"key='{key}'; compressed-hash={h}\")\n",
    "        self.__storevalue(h, key, value)\n",
    "\n",
    "    def __storevalue(self, index, key, value):\n",
    "        if self.__disp[index] is None:\n",
    "            self.__disp[index] = (key, value)\n",
    "        elif self.__disp[index][0] == key:\n",
    "            self.__disp[index] = (key, value)\n",
    "        else:\n",
    "            self.__collisions +=1\n",
    "            if type(self.__disp[index]) == list:\n",
    "                self.safe_insert(self.__disp[index], key, value)\n",
    "            elif type(self.__disp[index]) == tuple:\n",
    "                lst = [ self.__disp[index] ]\n",
    "                self.safe_insert(lst, key, value)\n",
    "                self.__disp[index] = lst\n",
    "    \n",
    "    @staticmethod\n",
    "    def safe_insert(lst, key, value):\n",
    "        found = False\n",
    "        for i in range(len(lst)):\n",
    "            if lst[i][0] == key:\n",
    "                lst[i] = (key, value)\n",
    "                found = True\n",
    "                break\n",
    "        if not found:\n",
    "            lst.append((key, value))\n",
    "\n",
    "    def __compress(self, h):\n",
    "        return h % self.__N\n",
    "\n",
    "    def __str__(self):\n",
    "        return str(self.__disp)\n",
    "\n",
    "    def __repr__(self):\n",
    "        return str(self)\n",
    "\n",
    "# Tests\n",
    "d = UserDict(10)\n",
    "d[\"abc\"]= \"João\"\n",
    "d[\"cba\"]= \"Catarina\"\n",
    "d[\"cba\"]= \"Célia\"\n",
    "d[\"cbo\"]= \"Joel\"\n",
    "d[\"cbd\"]= \"Sérgio\"\n",
    "d[\"abc\"]= \"Luís\"\n",
    "\n",
    "print(d)\n",
    "print(\"Collisions:\", d.collisions)"
   ]
  },
  {
   "cell_type": "code",
   "execution_count": null,
   "metadata": {},
   "outputs": [],
   "source": []
  }
 ],
 "metadata": {
  "language_info": {
   "codemirror_mode": {
    "name": "ipython",
    "version": 3
   },
   "file_extension": ".py",
   "mimetype": "text/x-python",
   "name": "python",
   "nbconvert_exporter": "python",
   "pygments_lexer": "ipython3",
   "version": "3.7.3-final"
  },
  "orig_nbformat": 2,
  "kernelspec": {
   "name": "8dd54f8a-fcef-4b13-af62-2708462d66b3",
   "display_name": "'Python Interactive'"
  }
 },
 "nbformat": 4,
 "nbformat_minor": 2
}