{
 "cells": [
  {
   "cell_type": "markdown",
   "metadata": {},
   "source": [
    "# Hash Algorithms\n",
    "\n",
    ">**Unidade curricular | Course Unit** Estrutura de Dados e Algoritmos | Data Structures and Algorithms\n",
    ">\n",
    ">**Professor** Luis Ramada Pereira\n",
    ">\n",
    ">**Curso|Course** LCD-PL -- **Ano letivo|Year** 2019/2020\n",
    ">\n",
    ">**Autores/Authors**\n",
    ">\n",
    ">     | Catarina Castanheira | nº 92478 |\n",
    ">     | João Martins         | nº 93259 |\n",
    ">     | Joel Paula           | nº 93392 |\n",
    ">\n",
    ">\n",
    ">27-05-2020"
   ]
  },
  {
   "cell_type": "markdown",
   "metadata": {},
   "source": [
    "## Implementing a User Dictionary, using a Hash Table. \n"
   ]
  },
  {
   "cell_type": "code",
   "execution_count": 43,
   "metadata": {},
   "outputs": [
    {
     "output_type": "stream",
     "name": "stdout",
     "text": "key_ abc ; compressed-hash: 2\nkey_ cba ; compressed-hash: 1\nkey_ cba ; compressed-hash: 1\nkey_ cbo ; compressed-hash: 9\nkey_ cbd ; compressed-hash: 2\nkey_ abc ; compressed-hash: 2\n[None, ('cba', 'Célia'), [('abc', 'Luís'), ('cbd', 'Sérgio')], None, None, None, None, None, None, ('cbo', 'Joel')]\nCollisions: 2\n"
    }
   ],
   "source": [
    "class UserDict:\n",
    "    def __init__(self, N):\n",
    "        self.__disp = [None] * N\n",
    "        self.__N = N\n",
    "        self.__collisions = 0\n",
    "    \n",
    "    @property\n",
    "    def collisions(self):\n",
    "        return self.__collisions\n",
    "\n",
    "    def __getitem__(self, key):\n",
    "        pass\n",
    "\n",
    "    def __setitem__(self, key, value):\n",
    "        h = hash(key)\n",
    "        h = self.__compress(h)\n",
    "        print(\"key_\", key, \"; compressed-hash:\", h)\n",
    "        self.__storevalue(h, key, value)\n",
    "\n",
    "    def __storevalue(self, index, key, value):\n",
    "        if self.__disp[index] is None:\n",
    "            self.__disp[index] = (key, value)\n",
    "        elif self.__disp[index][0] == key:\n",
    "            self.__disp[index] = (key, value)\n",
    "        else:\n",
    "            self.__collisions +=1\n",
    "            if type(self.__disp[index]) == list:\n",
    "                self.safe_insert(self.__disp[index], key, value)\n",
    "            elif type(self.__disp[index]) == tuple:\n",
    "                lst = [ self.__disp[index] ]\n",
    "                self.safe_insert(lst, key, value)\n",
    "                self.__disp[index] = lst\n",
    "    \n",
    "    @staticmethod\n",
    "    def safe_insert(lst, key, value):\n",
    "        found = False\n",
    "        for i in range(len(lst)):\n",
    "            if lst[i][0] == key:\n",
    "                lst[i] = (key, value)\n",
    "                found = True\n",
    "                break\n",
    "        if not found:\n",
    "            lst.append((key, value))\n",
    "\n",
    "    def __compress(self, h):\n",
    "        return h % self.__N\n",
    "\n",
    "    def __str__(self):\n",
    "        return str(self.__disp)\n",
    "\n",
    "    def __repr__(self):\n",
    "        return str(self)\n",
    "\n",
    "# Tests\n",
    "d = UserDict(10)\n",
    "d[\"abc\"]= \"João\"\n",
    "d[\"cba\"]= \"Catarina\"\n",
    "d[\"cba\"]= \"Célia\"\n",
    "d[\"cbo\"]= \"Joel\"\n",
    "d[\"cbd\"]= \"Sérgio\"\n",
    "d[\"abc\"]= \"Luís\"\n",
    "\n",
    "print(d)\n",
    "print(\"Collisions:\", d.collisions)"
   ]
  },
  {
   "cell_type": "code",
   "execution_count": null,
   "metadata": {},
   "outputs": [],
   "source": []
  }
 ],
 "metadata": {
  "language_info": {
   "codemirror_mode": {
    "name": "ipython",
    "version": 3
   },
   "file_extension": ".py",
   "mimetype": "text/x-python",
   "name": "python",
   "nbconvert_exporter": "python",
   "pygments_lexer": "ipython3",
   "version": "3.7.3-final"
  },
  "orig_nbformat": 2,
  "kernelspec": {
   "name": "8dd54f8a-fcef-4b13-af62-2708462d66b3",
   "display_name": "'Python Interactive'"
  }
 },
 "nbformat": 4,
 "nbformat_minor": 2
}